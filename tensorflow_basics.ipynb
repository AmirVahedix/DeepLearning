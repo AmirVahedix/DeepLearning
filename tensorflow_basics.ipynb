{
  "nbformat": 4,
  "nbformat_minor": 0,
  "metadata": {
    "colab": {
      "provenance": [],
      "gpuType": "T4",
      "authorship_tag": "ABX9TyOSeS0DRnhz0kn9SyN2FXHz",
      "include_colab_link": true
    },
    "kernelspec": {
      "name": "python3",
      "display_name": "Python 3"
    },
    "language_info": {
      "name": "python"
    },
    "accelerator": "GPU"
  },
  "cells": [
    {
      "cell_type": "markdown",
      "metadata": {
        "id": "view-in-github",
        "colab_type": "text"
      },
      "source": [
        "<a href=\"https://colab.research.google.com/github/AmirVahedix/deep_learning/blob/main/tensorflow_basics.ipynb\" target=\"_parent\"><img src=\"https://colab.research.google.com/assets/colab-badge.svg\" alt=\"Open In Colab\"/></a>"
      ]
    },
    {
      "cell_type": "code",
      "execution_count": null,
      "metadata": {
        "id": "Su77R8-1Ob7L"
      },
      "outputs": [],
      "source": [
        "import tensorflow as tf"
      ]
    },
    {
      "cell_type": "markdown",
      "source": [
        "# Data Structures"
      ],
      "metadata": {
        "id": "uIxAI-4pO8Ce"
      }
    },
    {
      "cell_type": "markdown",
      "source": [
        "## 1. Zero Dimensional"
      ],
      "metadata": {
        "id": "wPO-otbXO961"
      }
    },
    {
      "cell_type": "code",
      "source": [
        "a = tf.constant(0)\n",
        "a"
      ],
      "metadata": {
        "colab": {
          "base_uri": "https://localhost:8080/"
        },
        "id": "riPjArygOq2U",
        "outputId": "e4f29c31-2731-4bac-d74f-e8d4c8937d3e"
      },
      "execution_count": null,
      "outputs": [
        {
          "output_type": "execute_result",
          "data": {
            "text/plain": [
              "<tf.Tensor: shape=(), dtype=int32, numpy=0>"
            ]
          },
          "metadata": {},
          "execution_count": 2
        }
      ]
    },
    {
      "cell_type": "markdown",
      "source": [
        "## 1. One Dimensonal"
      ],
      "metadata": {
        "id": "iax3BmF7PRQ5"
      }
    },
    {
      "cell_type": "code",
      "source": [
        "b = tf.constant([1, 2])\n",
        "b"
      ],
      "metadata": {
        "colab": {
          "base_uri": "https://localhost:8080/"
        },
        "id": "SMp8AoP9PP8A",
        "outputId": "8df718d9-0856-4b3b-c216-01c888bae8c3"
      },
      "execution_count": null,
      "outputs": [
        {
          "output_type": "execute_result",
          "data": {
            "text/plain": [
              "<tf.Tensor: shape=(2,), dtype=int32, numpy=array([1, 2], dtype=int32)>"
            ]
          },
          "metadata": {},
          "execution_count": 4
        }
      ]
    },
    {
      "cell_type": "markdown",
      "source": [
        "## Two Dimensional (Matrix)"
      ],
      "metadata": {
        "id": "9bgdX4iFPlCr"
      }
    },
    {
      "cell_type": "code",
      "source": [
        "c = tf.constant([[1, 2], [1, 2]])\n",
        "c"
      ],
      "metadata": {
        "colab": {
          "base_uri": "https://localhost:8080/"
        },
        "id": "WfNQIumJPpcr",
        "outputId": "09d35deb-4905-4888-cccf-253f542d8817"
      },
      "execution_count": null,
      "outputs": [
        {
          "output_type": "execute_result",
          "data": {
            "text/plain": [
              "<tf.Tensor: shape=(2, 2), dtype=int32, numpy=\n",
              "array([[1, 2],\n",
              "       [1, 2]], dtype=int32)>"
            ]
          },
          "metadata": {},
          "execution_count": 5
        }
      ]
    },
    {
      "cell_type": "markdown",
      "source": [
        "## Three Dimensional (Tensor)"
      ],
      "metadata": {
        "id": "M6dUCJ3fP3tn"
      }
    },
    {
      "cell_type": "code",
      "source": [
        "d = tf.constant([[[1, 2], [3, 4]], [[5, 6], [7, 8]]])\n",
        "d"
      ],
      "metadata": {
        "colab": {
          "base_uri": "https://localhost:8080/"
        },
        "id": "CSfbW2N3PzUD",
        "outputId": "a52ccab7-3ec2-4a20-f2da-8348d0152610"
      },
      "execution_count": null,
      "outputs": [
        {
          "output_type": "execute_result",
          "data": {
            "text/plain": [
              "<tf.Tensor: shape=(2, 2, 2), dtype=int32, numpy=\n",
              "array([[[1, 2],\n",
              "        [3, 4]],\n",
              "\n",
              "       [[5, 6],\n",
              "        [7, 8]]], dtype=int32)>"
            ]
          },
          "metadata": {},
          "execution_count": 8
        }
      ]
    },
    {
      "cell_type": "markdown",
      "source": [
        "# Operations"
      ],
      "metadata": {
        "id": "VNvv-5CQQEuE"
      }
    },
    {
      "cell_type": "code",
      "source": [
        "x = tf.constant([1, 2])\n",
        "y = tf.constant([3, 4])"
      ],
      "metadata": {
        "id": "R316GQKvP8lF"
      },
      "execution_count": null,
      "outputs": []
    },
    {
      "cell_type": "markdown",
      "source": [
        "## 1. Summation"
      ],
      "metadata": {
        "id": "WUFFBsoWQP_c"
      }
    },
    {
      "cell_type": "code",
      "source": [
        "sum = tf.add(x, y)\n",
        "sum.numpy()"
      ],
      "metadata": {
        "colab": {
          "base_uri": "https://localhost:8080/"
        },
        "id": "EBtepD1AQPLb",
        "outputId": "74c5327b-227e-46cc-e64c-1309343b260b"
      },
      "execution_count": null,
      "outputs": [
        {
          "output_type": "execute_result",
          "data": {
            "text/plain": [
              "array([4, 6], dtype=int32)"
            ]
          },
          "metadata": {},
          "execution_count": 14
        }
      ]
    },
    {
      "cell_type": "markdown",
      "source": [
        "## 2. Subtract"
      ],
      "metadata": {
        "id": "s_IrI1ONQkZJ"
      }
    },
    {
      "cell_type": "code",
      "source": [
        "sub = tf.subtract(x, y)\n",
        "sub.numpy()"
      ],
      "metadata": {
        "colab": {
          "base_uri": "https://localhost:8080/"
        },
        "id": "HgM5_D_OQV6v",
        "outputId": "cb13780b-ffe2-48d9-8d11-1845282e4a25"
      },
      "execution_count": null,
      "outputs": [
        {
          "output_type": "execute_result",
          "data": {
            "text/plain": [
              "array([-2, -2], dtype=int32)"
            ]
          },
          "metadata": {},
          "execution_count": 15
        }
      ]
    },
    {
      "cell_type": "markdown",
      "source": [
        "## 3. Multiplication"
      ],
      "metadata": {
        "id": "5IfV2Bj8QsQ3"
      }
    },
    {
      "cell_type": "markdown",
      "source": [
        "### Element Wise:"
      ],
      "metadata": {
        "id": "QnNtuJnEQyxj"
      }
    },
    {
      "cell_type": "code",
      "source": [
        "ew = tf.multiply(x, y)\n",
        "ew.numpy()"
      ],
      "metadata": {
        "colab": {
          "base_uri": "https://localhost:8080/"
        },
        "id": "7MXb8sC5Qq5X",
        "outputId": "ab3d7e47-07d4-42a2-a7f4-b53ada7f1d17"
      },
      "execution_count": null,
      "outputs": [
        {
          "output_type": "execute_result",
          "data": {
            "text/plain": [
              "array([3, 8], dtype=int32)"
            ]
          },
          "metadata": {},
          "execution_count": 16
        }
      ]
    },
    {
      "cell_type": "markdown",
      "source": [
        "### Matrix Multiplication"
      ],
      "metadata": {
        "id": "NhDbd0mpQ7WQ"
      }
    },
    {
      "cell_type": "code",
      "source": [
        "x_1 = tf.constant([[1, 2], [3, 4]])\n",
        "y_1 = tf.constant([[4, 5], [7, 8]])\n",
        "\n",
        "mm = tf.matmul(x_1, y_1)\n",
        "mm.numpy()"
      ],
      "metadata": {
        "colab": {
          "base_uri": "https://localhost:8080/"
        },
        "id": "HEyI8Bk6Q54w",
        "outputId": "2af5f682-e81f-435d-c9e4-565408afdc3f"
      },
      "execution_count": null,
      "outputs": [
        {
          "output_type": "execute_result",
          "data": {
            "text/plain": [
              "array([[18, 21],\n",
              "       [40, 47]], dtype=int32)"
            ]
          },
          "metadata": {},
          "execution_count": 20
        }
      ]
    },
    {
      "cell_type": "markdown",
      "source": [
        "## Division"
      ],
      "metadata": {
        "id": "Ka7qsJZDRWjR"
      }
    },
    {
      "cell_type": "code",
      "source": [
        "div = tf.divide(x, y)\n",
        "div.numpy()"
      ],
      "metadata": {
        "colab": {
          "base_uri": "https://localhost:8080/"
        },
        "id": "RuYB8DS3RMfc",
        "outputId": "0dfcb522-e105-47eb-e31d-19988f651fb8"
      },
      "execution_count": null,
      "outputs": [
        {
          "output_type": "execute_result",
          "data": {
            "text/plain": [
              "array([0.33333333, 0.5       ])"
            ]
          },
          "metadata": {},
          "execution_count": 22
        }
      ]
    },
    {
      "cell_type": "code",
      "source": [],
      "metadata": {
        "id": "zopNl-TPRcrH"
      },
      "execution_count": null,
      "outputs": []
    }
  ]
}